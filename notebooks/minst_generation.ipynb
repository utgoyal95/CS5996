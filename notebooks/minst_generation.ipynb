{
 "cells": [
  {
   "cell_type": "code",
   "execution_count": 1,
   "id": "e2430225-5d7c-4d86-b6b6-19aac07b83ec",
   "metadata": {},
   "outputs": [],
   "source": [
    "import os\n",
    "os.chdir('../')"
   ]
  },
  {
   "cell_type": "code",
   "execution_count": 13,
   "id": "686fb4eb-93a0-4f69-9fbe-b61f3e630881",
   "metadata": {},
   "outputs": [],
   "source": [
    "# dcgan_reproduction/train.py\n",
    "import random, pathlib, datetime\n",
    "import numpy as np\n",
    "import torch, torch.nn as nn, torch.optim as optim\n",
    "import torchvision.datasets as dset\n",
    "import torchvision.transforms as T\n",
    "import torchvision.utils as vutils\n",
    "from torch.utils.data import DataLoader, Subset\n",
    "\n",
    "from sklearn.preprocessing import StandardScaler\n",
    "from sklearn.linear_model import LogisticRegression\n",
    "from sklearn.metrics import accuracy_score"
   ]
  },
  {
   "cell_type": "code",
   "execution_count": 3,
   "id": "216fbec0-052d-4b76-813d-ab9b5cdc626b",
   "metadata": {},
   "outputs": [],
   "source": [
    "from models.Generator import Generator\n",
    "from models.Discriminator import Discriminator"
   ]
  },
  {
   "cell_type": "code",
   "execution_count": 19,
   "id": "54f1832b-c92d-4c08-b3c1-e9975d680c0d",
   "metadata": {},
   "outputs": [],
   "source": [
    "import warnings \n",
    "warnings.filterwarnings('ignore')\n",
    "\n",
    "warnings.filterwarnings('ignore', category=RuntimeWarning)"
   ]
  },
  {
   "cell_type": "markdown",
   "id": "30b4ca88-50c0-4214-b0e4-20c7e15e4d51",
   "metadata": {},
   "source": [
    "# Traning"
   ]
  },
  {
   "cell_type": "markdown",
   "id": "2c5218ea-e164-4a0c-838a-1b92ee09a411",
   "metadata": {},
   "source": [
    "## Parameters"
   ]
  },
  {
   "cell_type": "code",
   "execution_count": 4,
   "id": "dda2f1e7-9974-41a5-83ea-c5773e338721",
   "metadata": {},
   "outputs": [
    {
     "name": "stdout",
     "output_type": "stream",
     "text": [
      "Device: mps\n"
     ]
    }
   ],
   "source": [
    "SEED = 1337\n",
    "random.seed(SEED); torch.manual_seed(SEED); np.random.seed(SEED)\n",
    "\n",
    "data = 'MINST'\n",
    "\n",
    "IMG_SIZE = 64\n",
    "BATCH    = 128\n",
    "EPOCHS   = 25\n",
    "NZ       = 100\n",
    "LR       = 2e-4\n",
    "BETA1    = 0.5\n",
    "LABEL_FRAC = 0.10\n",
    "\n",
    "ROOT     = pathlib.Path(\"./\")\n",
    "DATA_DIR = ROOT/\"data\"\n",
    "RES_DIR  = ROOT/f\"results/{data}\"; RES_DIR.mkdir(parents=True, exist_ok=True)\n",
    "MODEL_DIR  = ROOT/f\"results/{data}/model\"; MODEL_DIR.mkdir(parents=True, exist_ok=True)\n",
    "\n",
    "DEVICE = torch.device(\"mps\" if torch.backends.mps.is_available() else (\"cuda\" if torch.cuda.is_available() else \"cpu\"))\n",
    "print(\"Device:\", DEVICE)"
   ]
  },
  {
   "cell_type": "markdown",
   "id": "b9ed1662-7959-48f6-970e-06240fae6f01",
   "metadata": {},
   "source": [
    "## Data Loading"
   ]
  },
  {
   "cell_type": "code",
   "execution_count": 5,
   "id": "f7fff52b-94e2-4ce5-8715-15c29ab48d9c",
   "metadata": {},
   "outputs": [],
   "source": [
    "transform = T.Compose([T.Resize(IMG_SIZE), T.ToTensor(), T.Normalize((0.5,), (0.5,))])\n",
    "train_all = dset.MNIST(root=DATA_DIR, train=True, download=True, transform=transform)\n",
    "train_loader = DataLoader(train_all, BATCH, shuffle=True, num_workers=2)\n",
    "\n",
    "test_set = dset.MNIST(root=DATA_DIR, train=False, transform=transform)\n",
    "test_loader = DataLoader(test_set, BATCH, shuffle=False)"
   ]
  },
  {
   "cell_type": "markdown",
   "id": "c25a55c1-4f82-4d49-ae0a-eeca69fc88c9",
   "metadata": {},
   "source": [
    "## Model Training"
   ]
  },
  {
   "cell_type": "code",
   "execution_count": 6,
   "id": "28a4e4b7-47e5-4a15-8bfb-6e4dc6ea5fd3",
   "metadata": {},
   "outputs": [],
   "source": [
    "netG, netD = Generator(NZ).to(DEVICE), Discriminator().to(DEVICE)\n",
    "netG.apply(lambda m: nn.init.normal_(m.weight.data, 0.0, 0.02) if hasattr(m,'weight') and m.weight is not None else None)\n",
    "netD.apply(lambda m: nn.init.normal_(m.weight.data, 0.0, 0.02) if hasattr(m,'weight') and m.weight is not None else None)\n",
    "\n",
    "criterion = nn.BCELoss()\n",
    "optD = optim.AdamW(netD.parameters(), lr=LR, betas=(BETA1,0.999), weight_decay=1e-4)\n",
    "optG = optim.AdamW(netG.parameters(), lr=LR, betas=(BETA1,0.999), weight_decay=1e-4)\n",
    "\n",
    "fixed_noise = torch.randn(64, NZ, 1, 1, device=DEVICE)"
   ]
  },
  {
   "cell_type": "code",
   "execution_count": 7,
   "id": "38085249-fc01-415a-9d61-2eb80b3bb4ea",
   "metadata": {
    "scrolled": true
   },
   "outputs": [
    {
     "name": "stdout",
     "output_type": "stream",
     "text": [
      "===> Training\n",
      "[E1/25] [0/469] D:1.397 G:0.699\n",
      "[E1/25] [100/469] D:0.028 G:4.181\n",
      "[E1/25] [200/469] D:0.008 G:5.455\n",
      "[E1/25] [300/469] D:0.612 G:2.084\n",
      "[E1/25] [400/469] D:1.270 G:1.415\n",
      "[E2/25] [0/469] D:0.444 G:1.967\n",
      "[E2/25] [100/469] D:1.051 G:2.741\n",
      "[E2/25] [200/469] D:0.592 G:1.773\n",
      "[E2/25] [300/469] D:0.797 G:0.899\n",
      "[E2/25] [400/469] D:0.854 G:3.113\n",
      "[E3/25] [0/469] D:0.769 G:1.598\n",
      "[E3/25] [100/469] D:0.686 G:1.882\n",
      "[E3/25] [200/469] D:0.685 G:2.626\n",
      "[E3/25] [300/469] D:0.563 G:1.292\n",
      "[E3/25] [400/469] D:0.932 G:0.893\n",
      "[E4/25] [0/469] D:0.846 G:3.720\n",
      "[E4/25] [100/469] D:0.573 G:3.259\n",
      "[E4/25] [200/469] D:0.521 G:2.146\n",
      "[E4/25] [300/469] D:1.256 G:4.539\n",
      "[E4/25] [400/469] D:1.145 G:1.709\n",
      "[E5/25] [0/469] D:0.526 G:3.433\n",
      "[E5/25] [100/469] D:1.629 G:1.300\n",
      "[E5/25] [200/469] D:0.823 G:2.835\n",
      "[E5/25] [300/469] D:0.312 G:2.801\n",
      "[E5/25] [400/469] D:0.393 G:2.552\n",
      "[E6/25] [0/469] D:0.455 G:4.036\n",
      "[E6/25] [100/469] D:0.468 G:2.727\n",
      "[E6/25] [200/469] D:0.480 G:2.818\n",
      "[E6/25] [300/469] D:0.392 G:3.034\n",
      "[E6/25] [400/469] D:0.331 G:3.078\n",
      "[E7/25] [0/469] D:0.346 G:3.125\n",
      "[E7/25] [100/469] D:1.107 G:1.327\n",
      "[E7/25] [200/469] D:0.231 G:3.066\n",
      "[E7/25] [300/469] D:0.495 G:2.144\n",
      "[E7/25] [400/469] D:0.741 G:0.867\n",
      "[E8/25] [0/469] D:0.729 G:0.985\n",
      "[E8/25] [100/469] D:0.375 G:2.298\n",
      "[E8/25] [200/469] D:0.625 G:4.441\n",
      "[E8/25] [300/469] D:0.467 G:1.588\n",
      "[E8/25] [400/469] D:0.276 G:2.579\n",
      "[E9/25] [0/469] D:0.855 G:1.572\n",
      "[E9/25] [100/469] D:0.353 G:3.312\n",
      "[E9/25] [200/469] D:0.815 G:2.337\n",
      "[E9/25] [300/469] D:0.730 G:1.689\n",
      "[E9/25] [400/469] D:0.277 G:2.711\n",
      "[E10/25] [0/469] D:0.286 G:2.744\n",
      "[E10/25] [100/469] D:0.201 G:3.071\n",
      "[E10/25] [200/469] D:0.660 G:1.782\n",
      "[E10/25] [300/469] D:0.346 G:2.513\n",
      "[E10/25] [400/469] D:0.180 G:3.378\n",
      "[E11/25] [0/469] D:0.244 G:2.295\n",
      "[E11/25] [100/469] D:1.352 G:2.927\n",
      "[E11/25] [200/469] D:0.602 G:2.169\n",
      "[E11/25] [300/469] D:0.888 G:0.732\n",
      "[E11/25] [400/469] D:0.791 G:1.915\n",
      "[E12/25] [0/469] D:1.002 G:0.619\n",
      "[E12/25] [100/469] D:0.265 G:4.116\n",
      "[E12/25] [200/469] D:0.270 G:3.187\n",
      "[E12/25] [300/469] D:0.463 G:1.573\n",
      "[E12/25] [400/469] D:0.388 G:1.932\n",
      "[E13/25] [0/469] D:0.819 G:2.422\n",
      "[E13/25] [100/469] D:0.275 G:1.735\n",
      "[E13/25] [200/469] D:0.852 G:1.983\n",
      "[E13/25] [300/469] D:0.779 G:6.219\n",
      "[E13/25] [400/469] D:0.072 G:3.847\n",
      "[E14/25] [0/469] D:0.700 G:1.974\n",
      "[E14/25] [100/469] D:0.737 G:2.226\n",
      "[E14/25] [200/469] D:0.379 G:4.061\n",
      "[E14/25] [300/469] D:0.344 G:4.520\n",
      "[E14/25] [400/469] D:0.121 G:2.959\n",
      "[E15/25] [0/469] D:0.705 G:1.002\n",
      "[E15/25] [100/469] D:0.152 G:4.573\n",
      "[E15/25] [200/469] D:3.266 G:1.936\n",
      "[E15/25] [300/469] D:0.151 G:3.144\n",
      "[E15/25] [400/469] D:1.165 G:2.025\n",
      "[E16/25] [0/469] D:0.325 G:2.335\n",
      "[E16/25] [100/469] D:0.705 G:9.050\n",
      "[E16/25] [200/469] D:0.266 G:3.661\n",
      "[E16/25] [300/469] D:0.058 G:4.408\n",
      "[E16/25] [400/469] D:0.422 G:2.610\n",
      "[E17/25] [0/469] D:0.138 G:4.062\n",
      "[E17/25] [100/469] D:0.551 G:1.380\n",
      "[E17/25] [200/469] D:0.169 G:3.965\n",
      "[E17/25] [300/469] D:0.139 G:3.333\n",
      "[E17/25] [400/469] D:0.683 G:2.399\n",
      "[E18/25] [0/469] D:3.827 G:0.007\n",
      "[E18/25] [100/469] D:0.144 G:2.619\n",
      "[E18/25] [200/469] D:0.108 G:3.862\n",
      "[E18/25] [300/469] D:0.743 G:1.771\n",
      "[E18/25] [400/469] D:0.296 G:2.280\n",
      "[E19/25] [0/469] D:0.109 G:5.012\n",
      "[E19/25] [100/469] D:0.837 G:1.703\n",
      "[E19/25] [200/469] D:0.878 G:1.235\n",
      "[E19/25] [300/469] D:0.151 G:4.152\n",
      "[E19/25] [400/469] D:0.623 G:1.788\n",
      "[E20/25] [0/469] D:0.155 G:3.196\n",
      "[E20/25] [100/469] D:0.303 G:2.281\n",
      "[E20/25] [200/469] D:0.071 G:4.048\n",
      "[E20/25] [300/469] D:1.872 G:9.831\n",
      "[E20/25] [400/469] D:0.477 G:1.789\n",
      "[E21/25] [0/469] D:1.556 G:0.406\n",
      "[E21/25] [100/469] D:0.120 G:3.086\n",
      "[E21/25] [200/469] D:0.051 G:4.959\n",
      "[E21/25] [300/469] D:0.101 G:3.705\n",
      "[E21/25] [400/469] D:0.762 G:1.556\n",
      "[E22/25] [0/469] D:1.029 G:3.924\n",
      "[E22/25] [100/469] D:0.159 G:4.157\n",
      "[E22/25] [200/469] D:0.053 G:4.711\n",
      "[E22/25] [300/469] D:1.360 G:16.833\n",
      "[E22/25] [400/469] D:0.550 G:2.154\n",
      "[E23/25] [0/469] D:1.651 G:1.054\n",
      "[E23/25] [100/469] D:0.191 G:3.629\n",
      "[E23/25] [200/469] D:1.023 G:3.118\n",
      "[E23/25] [300/469] D:0.055 G:3.912\n",
      "[E23/25] [400/469] D:0.650 G:3.165\n",
      "[E24/25] [0/469] D:0.056 G:4.220\n",
      "[E24/25] [100/469] D:0.568 G:5.039\n",
      "[E24/25] [200/469] D:0.170 G:4.321\n",
      "[E24/25] [300/469] D:0.033 G:4.412\n",
      "[E24/25] [400/469] D:0.034 G:4.591\n",
      "[E25/25] [0/469] D:0.021 G:5.172\n",
      "[E25/25] [100/469] D:0.152 G:3.745\n",
      "[E25/25] [200/469] D:0.871 G:1.089\n",
      "[E25/25] [300/469] D:2.318 G:1.196\n",
      "[E25/25] [400/469] D:0.129 G:4.031\n"
     ]
    }
   ],
   "source": [
    "# ─── Training ────────────────────────────────────────────────────────────────\n",
    "print(\"===> Training\")\n",
    "for epoch in range(1, EPOCHS+1):\n",
    "    for i,(real,_ ) in enumerate(train_loader):\n",
    "        # Train D\n",
    "        netD.zero_grad()\n",
    "        real = real.to(DEVICE); b=real.size(0)\n",
    "        label_real = torch.ones(b, device=DEVICE)\n",
    "        loss_real = criterion(netD(real).view(-1), label_real)\n",
    "\n",
    "        noise = torch.randn(b, NZ,1,1, device=DEVICE)\n",
    "        fake = netG(noise)\n",
    "        label_fake = torch.zeros(b, device=DEVICE)\n",
    "        loss_fake = criterion(netD(fake.detach()).view(-1), label_fake)\n",
    "        loss_D = loss_real + loss_fake\n",
    "        loss_D.backward(); optD.step()\n",
    "\n",
    "        # Train G\n",
    "        netG.zero_grad()\n",
    "        loss_G = criterion(netD(fake).view(-1), label_real)  # want ones\n",
    "        loss_G.backward(); optG.step()\n",
    "\n",
    "        if i%100==0:\n",
    "            print(f\"[E{epoch}/{EPOCHS}] [{i}/{len(train_loader)}] D:{loss_D.item():.3f} G:{loss_G.item():.3f}\")\n",
    "    # save epoch samples\n",
    "    with torch.no_grad():\n",
    "        vutils.save_image(netG(fixed_noise).cpu(), RES_DIR/f\"fake_epoch_{epoch:03d}.png\", normalize=True)"
   ]
  },
  {
   "cell_type": "code",
   "execution_count": 8,
   "id": "47f6283f-0132-48f2-9a7b-ee18e7380afc",
   "metadata": {},
   "outputs": [
    {
     "name": "stdout",
     "output_type": "stream",
     "text": [
      "===> Saving checkpoints\n"
     ]
    }
   ],
   "source": [
    "print(\"===> Saving checkpoints\")\n",
    "torch.save(netG.state_dict(), MODEL_DIR/\"netG_final.pth\")\n",
    "torch.save(netD.state_dict(), MODEL_DIR/\"netD_final.pth\")"
   ]
  },
  {
   "cell_type": "markdown",
   "id": "58adce33-134e-46c5-929a-aa7b5e43870d",
   "metadata": {},
   "source": [
    "# Evaluation"
   ]
  },
  {
   "cell_type": "markdown",
   "id": "6f4c472a-6bc6-4ef9-9915-8fea7fce65c1",
   "metadata": {},
   "source": [
    "## Quantitative evaluation"
   ]
  },
  {
   "cell_type": "code",
   "execution_count": 20,
   "id": "9bfeeaae-9847-4b99-951b-33cdc3685d1e",
   "metadata": {},
   "outputs": [
    {
     "name": "stdout",
     "output_type": "stream",
     "text": [
      "===> Linear‑probe evaluation\n"
     ]
    },
    {
     "name": "stderr",
     "output_type": "stream",
     "text": [
      "/Users/utkarshgoyal/Desktop/Cornell Tech/3. Spring 2025/specialtopics/CS5996/venv/lib/python3.9/site-packages/sklearn/linear_model/_linear_loss.py:203: RuntimeWarning: divide by zero encountered in matmul\n",
      "  raw_prediction = X @ weights.T + intercept  # ndarray, likely C-contiguous\n",
      "/Users/utkarshgoyal/Desktop/Cornell Tech/3. Spring 2025/specialtopics/CS5996/venv/lib/python3.9/site-packages/sklearn/linear_model/_linear_loss.py:203: RuntimeWarning: overflow encountered in matmul\n",
      "  raw_prediction = X @ weights.T + intercept  # ndarray, likely C-contiguous\n",
      "/Users/utkarshgoyal/Desktop/Cornell Tech/3. Spring 2025/specialtopics/CS5996/venv/lib/python3.9/site-packages/sklearn/linear_model/_linear_loss.py:203: RuntimeWarning: invalid value encountered in matmul\n",
      "  raw_prediction = X @ weights.T + intercept  # ndarray, likely C-contiguous\n",
      "/Users/utkarshgoyal/Desktop/Cornell Tech/3. Spring 2025/specialtopics/CS5996/venv/lib/python3.9/site-packages/sklearn/linear_model/_linear_loss.py:336: RuntimeWarning: divide by zero encountered in matmul\n",
      "  grad[:, :n_features] = grad_pointwise.T @ X + l2_reg_strength * weights\n",
      "/Users/utkarshgoyal/Desktop/Cornell Tech/3. Spring 2025/specialtopics/CS5996/venv/lib/python3.9/site-packages/sklearn/linear_model/_linear_loss.py:336: RuntimeWarning: overflow encountered in matmul\n",
      "  grad[:, :n_features] = grad_pointwise.T @ X + l2_reg_strength * weights\n",
      "/Users/utkarshgoyal/Desktop/Cornell Tech/3. Spring 2025/specialtopics/CS5996/venv/lib/python3.9/site-packages/sklearn/linear_model/_linear_loss.py:336: RuntimeWarning: invalid value encountered in matmul\n",
      "  grad[:, :n_features] = grad_pointwise.T @ X + l2_reg_strength * weights\n"
     ]
    },
    {
     "name": "stdout",
     "output_type": "stream",
     "text": [
      "2025-04-30 23:45:17.065322: linear‑probe (10.00% labels) = 97.92%\n",
      "\n"
     ]
    },
    {
     "data": {
      "text/plain": [
       "66"
      ]
     },
     "execution_count": 20,
     "metadata": {},
     "output_type": "execute_result"
    }
   ],
   "source": [
    "print(\"===> Linear‑probe evaluation\")\n",
    "\n",
    "lab_n = int(len(train_all)*LABEL_FRAC)\n",
    "lab_idx = np.random.choice(len(train_all), lab_n, False)\n",
    "train_lab_loader = DataLoader(Subset(train_all, lab_idx), BATCH, shuffle=False)\n",
    "POOL = nn.AdaptiveMaxPool2d((4,4))\n",
    "\n",
    "@torch.no_grad()\n",
    "def feats(loader):\n",
    "    out, ys = [], []\n",
    "    for x, y in loader:\n",
    "        x = x.to(DEVICE)\n",
    "        h = x\n",
    "        acts = []\n",
    "        for layer in netD.main:\n",
    "            h = layer(h)\n",
    "            if isinstance(layer, nn.Conv2d) and h.shape[2] >= 4 and h.shape[3] >= 4:\n",
    "                acts.append(POOL(h).cpu())\n",
    "        pooled = torch.cat([a.view(a.size(0), -1) for a in acts], dim=1)\n",
    "        out.append(pooled)\n",
    "        ys.append(y)\n",
    "    return torch.cat(out).numpy(), torch.cat(ys).numpy()\n",
    "\n",
    "netD.eval()\n",
    "\n",
    "X_tr, y_tr = feats(train_lab_loader)\n",
    "X_te, y_te = feats(test_loader)\n",
    "\n",
    "# 1) Standardize each feature across the training set\n",
    "scaler = StandardScaler()\n",
    "X_tr = scaler.fit_transform(X_tr)\n",
    "X_te = scaler.transform(X_te)\n",
    "\n",
    "clf = LogisticRegression(max_iter=1000, n_jobs=-1).fit(X_tr,y_tr)\n",
    "acc = accuracy_score(y_te, clf.predict(X_te))*100\n",
    "rep = f\"{datetime.datetime.now()}: linear‑probe ({LABEL_FRAC:.2%} labels) = {acc:.2f}%\\n\"\n",
    "\n",
    "print(rep); (RES_DIR/\"eval.txt\").write_text(rep)"
   ]
  },
  {
   "cell_type": "markdown",
   "id": "0d29beb8-7cd3-464e-a1e8-e25fb2b694a0",
   "metadata": {},
   "source": [
    "**Comments:** With only 10 % of the MNIST labels, a frozen Discriminator + one single linear layer on top gets 98 % test accuracy. Getting 98 % in a purely unsupervised→linear-probe setup means your Discriminator’s intermediate features are nearly as powerful as fully supervised ones.\n",
    "\n",
    "**Therefore DCGAN has learned very rich, discriminative representations of handwritten digits.**"
   ]
  },
  {
   "cell_type": "markdown",
   "id": "89095421-1a3b-419f-9723-41818de21b29",
   "metadata": {},
   "source": [
    "## Qualitative sanity checks"
   ]
  },
  {
   "cell_type": "code",
   "execution_count": null,
   "id": "3762c17c-2aff-4b3a-98fb-68af3a73dd73",
   "metadata": {},
   "outputs": [],
   "source": [
    "print(\"===> Qualitative sanity checks\")\n",
    "\n",
    "def latent_interpolation(n_steps=10):\n",
    "    z0,z1 = torch.randn(1,NZ,1,1,device=DEVICE), torch.randn(1,NZ,1,1,device=DEVICE)\n",
    "    alphas = torch.linspace(0,1,n_steps,device=DEVICE).view(-1,1,1,1)\n",
    "    z = z0 + alphas*(z1-z0)\n",
    "    with torch.no_grad(): imgs = netG(z).cpu()\n",
    "    vutils.save_image(imgs, RES_DIR/\"interpolation.png\", nrow=n_steps, normalize=True)\n",
    "\n",
    "latent_interpolation()"
   ]
  },
  {
   "attachments": {
    "a265e112-2148-488c-a5b2-2a09bc71010a.png": {
     "image/png": "[encoded data removed]"
    }
   },
   "cell_type": "markdown",
   "id": "7fa076f5-0112-4e0d-aaee-c3a8cbf99cda",
   "metadata": {
    "scrolled": true
   },
   "source": [
    "![interpolation.png](attachment:a265e112-2148-488c-a5b2-2a09bc71010a.png)"
   ]
  },
  {
   "cell_type": "markdown",
   "id": "0bb600cf-0efc-4fa7-b16a-b7ef15484bbb",
   "metadata": {},
   "source": [
    "**Comments:** Smooth gradual changes (each step is a morph between the two endpoint digits) indicate a well-structured, continuous latent space."
   ]
  },
  {
   "cell_type": "code",
   "execution_count": null,
   "id": "dd2d2aa8-13d9-4be7-b10a-57ba5cb403b3",
   "metadata": {},
   "outputs": [
    {
     "name": "stdout",
     "output_type": "stream",
     "text": [
      "===> Qualitative sanity checks\n",
      "  computing nearest neighbours… (may take a minute)\n",
      "Finished. See result images & logs in results/MINST\n"
     ]
    }
   ],
   "source": [
    "# nearest‑neighbour check\n",
    "print(\"  computing nearest neighbours… (may take a minute)\")\n",
    "@torch.no_grad()\n",
    "def nn_check(num_fake=8, real_subset=6000):\n",
    "    # sample fakes\n",
    "    fake = netG(torch.randn(num_fake,NZ,1,1,device=DEVICE)).cpu()\n",
    "    # prep subset of real images for speed\n",
    "    sub_idx = np.random.choice(len(train_all), real_subset, False)\n",
    "    real_subset_imgs = torch.stack([train_all[i][0] for i in sub_idx])  # [R,1,64,64]\n",
    "    f = fake.view(num_fake,-1)\n",
    "    r = real_subset_imgs.view(real_subset,-1)\n",
    "    # compute L2 distances in chunks to save RAM\n",
    "    nn_real = []\n",
    "    for v in f:\n",
    "        dists = ((r - v).pow(2)).sum(1)\n",
    "        idx = torch.argmin(dists).item()\n",
    "        nn_real.append(real_subset_imgs[idx])\n",
    "    grid = torch.cat([fake, torch.stack(nn_real)],0)\n",
    "    vutils.save_image(grid, RES_DIR/\"nearest_neighbour.png\", nrow=num_fake, normalize=True)\n",
    "\n",
    "nn_check()\n",
    "\n",
    "print(\"Finished. See result images & logs in\", RES_DIR)"
   ]
  },
  {
   "attachments": {
    "239dc957-1897-49b7-8a7e-2d09d9eb4a7e.png": {
     "image/png": "[encoded data removed]"
    }
   },
   "cell_type": "markdown",
   "id": "7058a0ad-5bd5-4de4-be28-8df628e04845",
   "metadata": {},
   "source": [
    "![nearest_neighbour.png](attachment:239dc957-1897-49b7-8a7e-2d09d9eb4a7e.png)"
   ]
  },
  {
   "cell_type": "markdown",
   "id": "bc546c22-67a5-41e4-9458-4aeebb56e7f5",
   "metadata": {},
   "source": [
    "**Comments:** The shapes are extremely close (same strokes, slants, even quirks), which suggests your Generator may be overfitting rather than truly sampling the underlying digit distribution."
   ]
  },
  {
   "cell_type": "markdown",
   "id": "f0bf7547-3976-4f71-badd-9fabaab8697f",
   "metadata": {},
   "source": [
    "# Overall Comments \n",
    "\n",
    "- Representation quality: The D’s features are nearly as good as a small supervised network.\n",
    "\n",
    "- Memorization risk: The fakes and nearest real neighbours look too identical—the Generator may be overfitting."
   ]
  },
  {
   "cell_type": "code",
   "execution_count": null,
   "id": "6b1ed6b0-75bd-41c5-95ad-7b0d0922cf4e",
   "metadata": {},
   "outputs": [],
   "source": []
  },
  {
   "cell_type": "code",
   "execution_count": null,
   "id": "479047d7-0ffa-4d27-8587-68b33ef6dd13",
   "metadata": {},
   "outputs": [],
   "source": []
  }
 ],
 "metadata": {
  "kernelspec": {
   "display_name": "Python 3 (ipykernel)",
   "language": "python",
   "name": "python3"
  },
  "language_info": {
   "codemirror_mode": {
    "name": "ipython",
    "version": 3
   },
   "file_extension": ".py",
   "mimetype": "text/x-python",
   "name": "python",
   "nbconvert_exporter": "python",
   "pygments_lexer": "ipython3",
   "version": "3.9.6"
  }
 },
 "nbformat": 4,
 "nbformat_minor": 5
}
